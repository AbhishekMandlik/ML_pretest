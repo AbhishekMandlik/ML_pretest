{
  "nbformat": 4,
  "nbformat_minor": 0,
  "metadata": {
    "colab": {
      "provenance": []
    },
    "kernelspec": {
      "name": "python3",
      "display_name": "Python 3"
    },
    "language_info": {
      "name": "python"
    }
  },
  "cells": [
    {
      "cell_type": "markdown",
      "source": [
        "Question 1\n",
        "\n",
        "1.   Multiplication = k*m*n\n",
        "2.   Additions = (k-1)*m*n\n",
        "\n",
        "\n"
      ],
      "metadata": {
        "id": "U-hVuugj7O-P"
      }
    },
    {
      "cell_type": "markdown",
      "source": [
        "Question 2"
      ],
      "metadata": {
        "id": "0RYmbQPs73iG"
      }
    },
    {
      "cell_type": "markdown",
      "source": [
        "The NumPy's multiplication is significantly faster. This is because NumPy is optimized for numerical computations and operates in compiled code, while the list of lists approach is interpreted and not optimized for matrix operations."
      ],
      "metadata": {
        "id": "tNN4nGNb77b3"
      }
    },
    {
      "cell_type": "code",
      "source": [
        "import numpy as np\n",
        "\n",
        "# Create matrix A of size 3x4\n",
        "A = np.array([[1, 2, 3, 4],\n",
        "                    [5, 6, 7, 8],\n",
        "                   [9, 10, 11, 12]])\n",
        "\n",
        "# Create matrix B of size 4x5\n",
        "B = np.array([[2, 3, 4, 5, 6],\n",
        "                     [7, 8, 9, 10, 11],\n",
        "                   [12, 13, 14, 15, 16],\n",
        "                    [17, 18, 19, 20, 21]])\n",
        "#Answer Array\n",
        "C= np.array([[0, 0, 0, 0, 0],\n",
        "                   [0, 0, 0, 0, 0],\n",
        "                  [0, 0, 0, 0, 0]])\n"
      ],
      "metadata": {
        "id": "MKH-u1Uf6q36"
      },
      "execution_count": null,
      "outputs": []
    },
    {
      "cell_type": "code",
      "source": [
        "n=3\n",
        "k=4\n",
        "m=5\n",
        "x=0\n",
        "y=0"
      ],
      "metadata": {
        "id": "jokLjXxb6q03"
      },
      "execution_count": null,
      "outputs": []
    },
    {
      "cell_type": "code",
      "source": [
        "import time"
      ],
      "metadata": {
        "id": "ZJ6D_WHK6qx2"
      },
      "execution_count": null,
      "outputs": []
    },
    {
      "cell_type": "code",
      "source": [
        "start_time = time.time()\n",
        "\n",
        "for y in range (0,m):\n",
        "    for x in range (0,n):\n",
        "        i=0\n",
        "        sum=0\n",
        "        while i<k:\n",
        "            sum=sum+A[x][i]*B[i][y]\n",
        "            i=i+1\n",
        "        C[x][y]=sum\n",
        "\n",
        "end_time = time.time()\n",
        "time_taken = end_time - start_time\n",
        "print(f\"Time taken: {time_taken} seconds\")\n",
        "\n"
      ],
      "metadata": {
        "colab": {
          "base_uri": "https://localhost:8080/"
        },
        "id": "tqWbG5T_6qvE",
        "outputId": "b5a63b24-6c9a-4940-ca06-b2e3f5626bba"
      },
      "execution_count": null,
      "outputs": [
        {
          "output_type": "stream",
          "name": "stdout",
          "text": [
            "Time taken: 0.0002713203430175781 seconds\n"
          ]
        }
      ]
    },
    {
      "cell_type": "code",
      "source": [
        "print(C)"
      ],
      "metadata": {
        "colab": {
          "base_uri": "https://localhost:8080/"
        },
        "id": "b-FPKmc86qsT",
        "outputId": "db507410-63fe-4c64-a6a9-d1e38f1d4f34"
      },
      "execution_count": null,
      "outputs": [
        {
          "output_type": "stream",
          "name": "stdout",
          "text": [
            "[[120 130 140 150 160]\n",
            " [272 298 324 350 376]\n",
            " [424 466 508 550 592]]\n"
          ]
        }
      ]
    },
    {
      "cell_type": "code",
      "source": [
        "start_time = time.time()\n",
        "\n",
        "A_np = np.array(A)\n",
        "B_np = np.array(B)\n",
        "result_np = np.dot(A_np, B_np)\n",
        "print(\"Result\", result_np)\n",
        "\n",
        "end_time = time.time()\n",
        "time_taken = end_time - start_time\n",
        "print(f\"Time taken: {time_taken} seconds\")"
      ],
      "metadata": {
        "colab": {
          "base_uri": "https://localhost:8080/"
        },
        "id": "truZBq4u6qpu",
        "outputId": "fdbfccdc-d22c-4259-8ad1-3af63c9dc80c"
      },
      "execution_count": null,
      "outputs": [
        {
          "output_type": "stream",
          "name": "stdout",
          "text": [
            "Result [[120 130 140 150 160]\n",
            " [272 298 324 350 376]\n",
            " [424 466 508 550 592]]\n",
            "Time taken: 0.0012009143829345703 seconds\n"
          ]
        }
      ]
    },
    {
      "cell_type": "markdown",
      "source": [
        "Question 3"
      ],
      "metadata": {
        "id": "eA84h6TD839v"
      }
    },
    {
      "cell_type": "code",
      "source": [
        "def find_median(arr):\n",
        "    sorted_list = sorted(arr)\n",
        "    n = len(arr)\n",
        "    a=int(n/2)\n",
        "    return  sorted_list[a]\n",
        "\n",
        "\n",
        "\n",
        "arr1 = [3, 1, 4, 1, 5, 9, 2, 6, 5, 3, 5]\n",
        "arr2 = [3, 1, 4, 1, 5, 9, 2, 6, 5, 3, 5]\n",
        "arrnp = np.array(arr1)\n",
        "\n",
        "S1 = time.time()\n",
        "median1 = find_median(arr1)\n",
        "S2 = time.time()\n",
        "median3 = np.median(arrnp)\n",
        "S3 = time.time()\n",
        "\n",
        "print(\"Median Sort:\", median1,\"Median Np:\", median3)\n",
        "print(\"Time Median Sort:\", S2-S1,\"Time Median Np:\", S3-S2,)"
      ],
      "metadata": {
        "colab": {
          "base_uri": "https://localhost:8080/"
        },
        "id": "HvFk9Bce6qmt",
        "outputId": "0afb4332-5c43-4e66-8f77-456899e241c9"
      },
      "execution_count": null,
      "outputs": [
        {
          "output_type": "stream",
          "name": "stdout",
          "text": [
            "Median Sort: 4 Median Np: 4.0\n",
            "Time Median Sort: 8.559226989746094e-05 Time Median Np: 0.0003292560577392578\n"
          ]
        }
      ]
    },
    {
      "cell_type": "markdown",
      "source": [
        "Question 4\n",
        "\n",
        "2xy+y^3*(cos(x))\n",
        "\n",
        "x^2 +3*y^2*(sin(x))"
      ],
      "metadata": {
        "id": "UGYsrEAX_hAp"
      }
    },
    {
      "cell_type": "markdown",
      "source": [
        "Question 5"
      ],
      "metadata": {
        "id": "aW_oy0y4_6P9"
      }
    },
    {
      "cell_type": "code",
      "source": [
        "import jax\n",
        "import jax.numpy as np\n",
        "from jax import grad, random\n",
        "\n",
        "key = random.PRNGKey(42)\n",
        "\n",
        "def fun(x, y):\n",
        "    return ((x**2) * y) + ((y**3) * np.sin(x))\n",
        "\n",
        "def sol_x(x,y):\n",
        "    return (2*x*y) + ((y**3)*np.cos(x))\n",
        "\n",
        "def sol_y(x,y):\n",
        "    return (x**2) + ((3*y**2)*np.sin(x))\n",
        "\n",
        "# Define random values for x and y\n",
        "x_value = random.uniform(key)\n",
        "y_value = random.uniform(key)\n",
        "\n",
        "# Computing the gradient for both values\n",
        "grad_fun_x = grad(fun, argnums=0)(x_value, y_value)\n",
        "grad_fun_y = grad(fun, argnums=1)(x_value, y_value)\n",
        "\n",
        "#print both the values\n",
        "print(\"Gradent wrt to x: \",grad_fun_x,\"Calculated values: \",sol_x(x_value,y_value))\n",
        "print(\"Gradent wrt to x: \",grad_fun_y,\"Calculated values: \",sol_y(x_value,y_value))\n"
      ],
      "metadata": {
        "colab": {
          "base_uri": "https://localhost:8080/"
        },
        "id": "3Dawndax82Wo",
        "outputId": "e421667b-e8e3-4dcc-cb8d-9fcd9293540b"
      },
      "execution_count": null,
      "outputs": [
        {
          "output_type": "stream",
          "name": "stdout",
          "text": [
            "Gradent wrt to x:  0.4349301 Calculated values:  0.4349301\n",
            "Gradent wrt to x:  0.40820223 Calculated values:  0.40820223\n"
          ]
        }
      ]
    },
    {
      "cell_type": "markdown",
      "source": [
        "Question 6"
      ],
      "metadata": {
        "id": "-xod5no7ACk9"
      }
    },
    {
      "cell_type": "code",
      "source": [
        "import sympy as sp\n",
        "\n",
        "\n",
        "x, y = sp.symbols('x y')\n",
        "\n",
        "# Define the function\n",
        "fun = ((x**2) * y) + ((y**3) * sp.sin(x))\n",
        "\n",
        "\n",
        "grad_fun_x = sp.diff(fun, x)\n",
        "grad_fun_y = sp.diff(fun, y)\n",
        "\n",
        "print(f\"Gradient wrt x: {grad_fun_x}\")\n",
        "print(f\"Gradient wrt y: {grad_fun_y}\")\n"
      ],
      "metadata": {
        "colab": {
          "base_uri": "https://localhost:8080/"
        },
        "id": "2nRRNgYk82Zh",
        "outputId": "3172d9c1-e86d-4d89-b3e1-62426f7f60b5"
      },
      "execution_count": null,
      "outputs": [
        {
          "output_type": "stream",
          "name": "stdout",
          "text": [
            "Gradient wrt x: 2*x*y + y**3*cos(x)\n",
            "Gradient wrt y: x**2 + 3*y**2*sin(x)\n"
          ]
        }
      ]
    },
    {
      "cell_type": "markdown",
      "source": [
        "Question 7"
      ],
      "metadata": {
        "id": "tm-msukrANp7"
      }
    },
    {
      "cell_type": "code",
      "source": [
        "student_records = {\n",
        "    2020: {\n",
        "        \"Electrical Engineering\": {\n",
        "             1: {\"Name\": \"Abhishek\", \"Marks\": {\"Maths\": 99, \"English\": 84}},\n",
        "             2: {\"Name\": \"Zaqi\", \"Marks\": {\"Maths\": 92, \"English\": 81}}\n",
        "        },\n",
        "        \"Computer Science\": {\n",
        "             1: {\"Name\": \"Lakshya Mehta\", \"Marks\": {\"Maths\": 88, \"English\": 76}},\n",
        "             2: {\"Name\": \"Abhinab Mondal\", \"Marks\": {\"Maths\": 92, \"English\": 81}}\n",
        "        }\n",
        "    },\n",
        "    2021: {\n",
        "        \"Electrical Engineering\": {\n",
        "             1: {\"Name\": \"Abhishek\", \"Marks\": {\"Maths\": 99, \"English\": 84}},\n",
        "             2: {\"Name\": \"Zaqi\", \"Marks\": {\"Maths\": 92, \"English\": 81}}\n",
        "        },\n",
        "        \"Computer Science\": {\n",
        "             1: {\"Name\": \"Lakshya Mehta\", \"Marks\": {\"Maths\": 88, \"English\": 76}},\n",
        "             2: {\"Name\": \"Abhinab Mondal\", \"Marks\": {\"Maths\": 92, \"English\": 81}}\n",
        "        }\n",
        "    }\n",
        "}\n",
        "student_details = student_records[2021][\"Electrical Engineering\"][1]\n",
        "print(student_details)\n"
      ],
      "metadata": {
        "colab": {
          "base_uri": "https://localhost:8080/"
        },
        "id": "5NZ1hYHd82ce",
        "outputId": "ed1bded2-804b-4186-e4c0-5a9ddb9c3e94"
      },
      "execution_count": null,
      "outputs": [
        {
          "output_type": "stream",
          "name": "stdout",
          "text": [
            "{'Name': 'Abhishek', 'Marks': {'Maths': 99, 'English': 84}}\n"
          ]
        }
      ]
    },
    {
      "cell_type": "markdown",
      "source": [
        "Question 8"
      ],
      "metadata": {
        "id": "gTclkk_UAYOM"
      }
    },
    {
      "cell_type": "code",
      "source": [
        "class Student:\n",
        "    def __init__(self, roll_number, name, marks=None):\n",
        "        self.roll_number = roll_number\n",
        "        self.name = name\n",
        "        self.marks = marks if marks else {}\n",
        "\n",
        "class Branch:\n",
        "    def __init__(self, name, students=None):\n",
        "        self.name = name\n",
        "        self.students = students if students else []\n",
        "\n",
        "    def add_student(self, student):\n",
        "        self.students.append(student)\n",
        "\n",
        "class AcademicYear:\n",
        "    def __init__(self, year, branches=None):\n",
        "        self.year = year\n",
        "        self.branches = branches if branches else []\n",
        "\n",
        "    def add_branch(self, branch):\n",
        "        self.branches.append(branch)\n",
        "\n",
        "# Create instances representing the data structure\n",
        "student_1 = Student(1, 'Abhishek', {'Maths': 99, 'English': 84})\n",
        "student_2 = Student(2, 'Zaqi', {'Maths': 90, 'English': 80})\n",
        "branch_1 = Branch('Branch 1', [student_1, student_2])\n",
        "\n",
        "student_3 = Student(3, 'Mihir', {'Maths': 85, 'English': 75})\n",
        "branch_2 = Branch('Branch 2', [student_3])\n",
        "\n",
        "student_5 = Student(1, 'Atharva', {'Maths': 100, 'English': 70})\n",
        "student_6 = Student(2, 'Mithil', {'Maths': 90, 'English': 80})\n",
        "branch_3 = Branch('Branch 1', [student_5, student_6])\n",
        "\n",
        "student_7 = Student(3, 'Kunj', {'Maths': 15, 'English': 5})\n",
        "student_8 = Student(4, 'Mihir', {'Maths': 85, 'English': 75})\n",
        "branch_4 = Branch('Branch 2', [student_7, student_8])\n",
        "\n",
        "year_2022 = AcademicYear(2022, [branch_1, branch_2])\n",
        "year_2023 = AcademicYear(2023, [branch_3, branch_4])\n",
        "\n",
        "# Create the overall database\n",
        "database = [year_2022,year_2023]\n",
        "\n",
        "# Accessing specific information\n",
        "print(database[0].branches[0].students[0].name)\n",
        "print(database[1].branches[1].students[0].marks['English'])"
      ],
      "metadata": {
        "colab": {
          "base_uri": "https://localhost:8080/"
        },
        "id": "M3r2xasx82fw",
        "outputId": "45b43ad9-e492-4221-827e-d42a19157e15"
      },
      "execution_count": null,
      "outputs": [
        {
          "output_type": "stream",
          "name": "stdout",
          "text": [
            "Abhishek\n",
            "5\n"
          ]
        }
      ]
    },
    {
      "cell_type": "markdown",
      "source": [
        "Question 9"
      ],
      "metadata": {
        "id": "omxsK-9UA_yj"
      }
    },
    {
      "cell_type": "code",
      "source": [
        "import matplotlib.pyplot as plt\n",
        "x = np.arange(0.5, 100.5, 0.5)\n",
        "#y = np.exp(x)\n",
        "y=x**2\n",
        "plt.plot(x, y, label='y = f(x)')\n",
        "plt.title('Plot of y = f(x)')\n",
        "plt.xlabel('x')\n",
        "plt.ylabel('y')\n",
        "plt.legend()\n",
        "plt.show()"
      ],
      "metadata": {
        "colab": {
          "base_uri": "https://localhost:8080/",
          "height": 472
        },
        "id": "u7KqUD-R6qj6",
        "outputId": "4ded70cc-e55b-4ed0-9ce3-7f1efcb98e36"
      },
      "execution_count": null,
      "outputs": [
        {
          "output_type": "display_data",
          "data": {
            "text/plain": [
              "<Figure size 640x480 with 1 Axes>"
            ],
            "image/png": "[encoded data removed]"
          },
          "metadata": {}
        }
      ]
    },
    {
      "cell_type": "markdown",
      "source": [
        "Question 10"
      ],
      "metadata": {
        "id": "IL3XO-DCBIxd"
      }
    },
    {
      "cell_type": "code",
      "source": [
        "import numpy as np\n",
        "import pandas as pd\n",
        "matrix = np.random.uniform(1, 2, (20, 5))\n",
        "\n",
        "df = pd.DataFrame(matrix, columns=['a', 'b', 'c', 'd', 'e'])\n",
        "column_with_highest_std = df.std().idxmax()\n",
        "print(\"Column with the highest standard deviation:\", column_with_highest_std)\n",
        "row_with_lowest_mean = df.mean(axis=1).idxmin()\n",
        "print(\"Row with the lowest mean:\", row_with_lowest_mean)\n"
      ],
      "metadata": {
        "colab": {
          "base_uri": "https://localhost:8080/"
        },
        "id": "VlAQy2p06qVy",
        "outputId": "73f6e83d-1aed-48e7-9b6c-1a5042e44074"
      },
      "execution_count": null,
      "outputs": [
        {
          "output_type": "stream",
          "name": "stdout",
          "text": [
            "Column with the highest standard deviation: c\n",
            "Row with the lowest mean: 3\n"
          ]
        }
      ]
    },
    {
      "cell_type": "markdown",
      "source": [
        "Question 11"
      ],
      "metadata": {
        "id": "seIJzWQBBp7K"
      }
    },
    {
      "cell_type": "code",
      "source": [
        "df['f'] = df.sum(axis=1)\n",
        "\n",
        "df['g'] = df['f'].apply(lambda x: 'LT8' if x < 8 else 'GT8')\n",
        "\n",
        "lt8_count = (df['g'] == 'LT8').sum()\n",
        "print(\"Number of rows where 'g' is 'LT8':\", lt8_count)\n",
        "\n",
        "std_lt8 = df[df['g'] == 'LT8']['f'].std()\n",
        "std_gt8 = df[df['g'] == 'GT8']['f'].std()\n",
        "\n",
        "print(\"Standard deviation of 'f' for 'LT8':\", std_lt8)\n",
        "print(\"Standard deviation of 'f' for 'GT8':\", std_gt8)\n"
      ],
      "metadata": {
        "colab": {
          "base_uri": "https://localhost:8080/"
        },
        "id": "OQRSoPhqCzOg",
        "outputId": "f96fa150-6132-4ee1-9d93-f5980a6d96c0"
      },
      "execution_count": null,
      "outputs": [
        {
          "output_type": "stream",
          "name": "stdout",
          "text": [
            "Number of rows where 'g' is 'LT8': 15\n",
            "Standard deviation of 'f' for 'LT8': 0.6261001832659354\n",
            "Standard deviation of 'f' for 'GT8': 0.3268116136811141\n"
          ]
        }
      ]
    },
    {
      "cell_type": "markdown",
      "source": [
        "Question 12"
      ],
      "metadata": {
        "id": "FW4W7tAlCIr9"
      }
    },
    {
      "cell_type": "markdown",
      "source": [
        "Broadcasting in NumPy allows arithmetic operations to be performed on arrays of different shapes. When operating on two arrays, NumPy compares their shapes element-wise. It starts with the trailing (i.e., rightmost) dimensions and works its way left. Two dimensions are compatible when:\n",
        "\n",
        "They are equal, or One of them is 1 If these conditions are not met, NumPy will raise an error. The smaller array is “broadcast” across the larger array so that they have compatible shape"
      ],
      "metadata": {
        "id": "KQ-YAPLhCD_u"
      }
    },
    {
      "cell_type": "code",
      "source": [
        "# Create a 2D array (shape: 2x3)\n",
        "A = np.array([[1, 2, 3], [4, 5, 6]])\n",
        "\n",
        "# Create a 1D array (shape: 3,)\n",
        "B = np.array([1, 0, 1])\n",
        "\n",
        "# Broadcasting allows element-wise addition\n",
        "result = A + B\n",
        "\n",
        "print(\"Array A:\\n\", A)\n",
        "print(\"Array B:\", B)\n",
        "print(\"Result of A + B:\\n\", result)"
      ],
      "metadata": {
        "colab": {
          "base_uri": "https://localhost:8080/"
        },
        "id": "DotQGl-qB6oL",
        "outputId": "5babda55-ed07-492c-e168-4df0104a9c84"
      },
      "execution_count": null,
      "outputs": [
        {
          "output_type": "stream",
          "name": "stdout",
          "text": [
            "Array A:\n",
            " [[1 2 3]\n",
            " [4 5 6]]\n",
            "Array B: [1 0 1]\n",
            "Result of A + B:\n",
            " [[2 2 4]\n",
            " [5 5 7]]\n"
          ]
        }
      ]
    },
    {
      "cell_type": "markdown",
      "source": [
        "Question 13"
      ],
      "metadata": {
        "id": "NWF7Mr6cCPCp"
      }
    },
    {
      "cell_type": "code",
      "source": [
        "import numpy as np\n",
        "import random\n",
        "\n",
        "def find_argmin(arr):\n",
        "    if len(arr) == 0:\n",
        "        return -1\n",
        "    a=101\n",
        "    min_index=0\n",
        "    for i in range(100):\n",
        "      if arr[i]<a:\n",
        "        a=arr[i]\n",
        "        min_index=i\n",
        "\n",
        "    return min_index\n",
        "\n",
        "random.seed(0)\n",
        "arr = np.random.randint(10, 100, size=100)\n",
        "\n",
        "index = find_argmin(arr)\n",
        "print(\"our fn\", index)\n",
        "\n",
        "np_index = np.argmin(arr)\n",
        "print(\"Np:\", np_index)\n",
        "\n",
        "print(\"Verify?\", index == np_index)\n"
      ],
      "metadata": {
        "id": "6IH2z6icCNu1",
        "outputId": "98d56659-04c6-42e5-c324-5e9db770b2c8",
        "colab": {
          "base_uri": "https://localhost:8080/"
        }
      },
      "execution_count": null,
      "outputs": [
        {
          "output_type": "stream",
          "name": "stdout",
          "text": [
            "our fn 20\n",
            "Np: 20\n",
            "Verify? True\n"
          ]
        }
      ]
    },
    {
      "cell_type": "code",
      "source": [],
      "metadata": {
        "id": "VNQnL6KgC-Nv"
      },
      "execution_count": null,
      "outputs": []
    }
  ]
}